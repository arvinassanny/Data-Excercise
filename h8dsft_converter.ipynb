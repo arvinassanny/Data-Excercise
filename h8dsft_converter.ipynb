{
 "cells": [
  {
   "cell_type": "markdown",
   "metadata": {},
   "source": [
    "Non Graded Challenge 3\n",
    "\n",
    "Konversi kelvin ke celcius & celcius ke kelvin"
   ]
  },
  {
   "cell_type": "code",
   "execution_count": null,
   "metadata": {},
   "outputs": [],
   "source": [
    "# Defining function\n",
    "def c_to_k(conv): \n",
    "    ''''convert celcius to kelvin'''\n",
    "    converter = round(float(conv + 273.15),2)\n",
    "    return converter\n",
    "\n",
    "def k_to_c(conv):\n",
    "    ''''convert kelvin to celcius'''\n",
    "    converter = round(float(conv - 273.15),2)\n",
    "    return converter\n",
    "\n",
    "# User input\n",
    "temp = float(input('Temperature?: '))\n",
    "unit = input('Units?: ').upper()\n",
    "\n",
    "if unit == 'C':\n",
    "    temp_converted = c_to_k(temp)\n",
    "    unit_converted = '°C'\n",
    "elif unit == 'K':\n",
    "    temp_converted = k_to_c(temp)\n",
    "    unit_converted = '°K'\n",
    "else:\n",
    "    print('Error, please input the rigth value!')\n",
    "\n",
    "print(temp,'°'+ unit, '=', temp_converted, unit_converted)"
   ]
  },
  {
   "cell_type": "markdown",
   "metadata": {},
   "source": [
    "Konversi kelvin atau celcius ke farenheit"
   ]
  },
  {
   "cell_type": "code",
   "execution_count": null,
   "metadata": {},
   "outputs": [],
   "source": [
    "# Defining function\n",
    "def c_to_f(conv): \n",
    "    ''''convert celcius to farenheit'''\n",
    "    converter = round(float((conv * 9/5)+32),2)\n",
    "    return converter\n",
    "\n",
    "def k_to_f(conv):\n",
    "    ''''convert kelvin to farenheit'''\n",
    "    converter = round(float((conv - 273.15)*1.8 + 32),2)\n",
    "    return converter\n",
    "\n",
    "# User input\n",
    "temp = float(input('Temperature?: '))\n",
    "unit = input('Units?: ').upper()\n",
    "\n",
    "if unit == 'C':\n",
    "    temp_converted = c_to_f(temp)\n",
    "    unit_converted = '°F'\n",
    "elif unit == 'K':\n",
    "    temp_converted = k_to_f(temp)\n",
    "    unit_converted = '°F'\n",
    "else:\n",
    "    print('Error, please input the rigth value!')\n",
    "\n",
    "print(temp,'°'+ unit, '=', temp_converted, unit_converted)"
   ]
  },
  {
   "cell_type": "markdown",
   "metadata": {},
   "source": [
    "Konversi Farenheit ke Celcius atau Kelvin"
   ]
  },
  {
   "cell_type": "code",
   "execution_count": null,
   "metadata": {},
   "outputs": [],
   "source": [
    "# Defining function\n",
    "def f_to_c(conv): \n",
    "    ''''convert farenheit to celcius'''\n",
    "    converter = round(float((conv - 32)/(9/5)),2)\n",
    "    return converter\n",
    "\n",
    "def f_to_k(conv):\n",
    "    ''''convert farenheit to kelvin'''\n",
    "    converter = round(float((conv - 32)*(9/5) + 273.15),2)\n",
    "    return converter\n",
    "\n",
    "# User input\n",
    "temp = float(input('Temperature?: '))\n",
    "unit = input('Units?: ').upper()\n",
    "\n",
    "if unit == 'F':\n",
    "    temp_converted = f_to_c(temp)\n",
    "    unit_converted = '°C'\n",
    "elif unit == 'F':\n",
    "    temp_converted = f_to_k(temp)\n",
    "    unit_converted = '°K'\n",
    "else:\n",
    "    print('Error, please input the rigth value!')\n",
    "\n",
    "print(temp,'°'+ unit, '=', temp_converted, unit_converted)"
   ]
  }
 ],
 "metadata": {
  "kernelspec": {
   "display_name": "Python 3.9.13 ('base')",
   "language": "python",
   "name": "python3"
  },
  "language_info": {
   "codemirror_mode": {
    "name": "ipython",
    "version": 3
   },
   "file_extension": ".py",
   "mimetype": "text/x-python",
   "name": "python",
   "nbconvert_exporter": "python",
   "pygments_lexer": "ipython3",
   "version": "3.9.13"
  },
  "orig_nbformat": 4,
  "vscode": {
   "interpreter": {
    "hash": "fb8e96bab5497db2e3ba4164333414b1d50742fa963cda73889f8b0144f64d6b"
   }
  }
 },
 "nbformat": 4,
 "nbformat_minor": 2
}
