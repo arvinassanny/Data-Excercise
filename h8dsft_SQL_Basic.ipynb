{
 "cells": [
  {
   "cell_type": "code",
   "execution_count": null,
   "metadata": {},
   "outputs": [],
   "source": [
    "SELECT COUNT(*) AS total_subs_q1\n",
    "FROM `bigquery-public-data.san_francisco.bikeshare_trips` AS trip\n",
    "JOIN `bigquery-public-data.san_francisco.bikeshare_stations` AS station\n",
    "ON trip.start_station_id = station.station_id\n",
    "WHERE start_date BETWEEN '2015-12-31' AND '2016-04-01'\n",
    "  AND subscriber_type = 'Subscriber'\n",
    "  AND landmark = 'Redwood City'\n",
    "\n",
    "SELECT COUNT(*) AS total_subs_q2\n",
    "FROM `bigquery-public-data.san_francisco.bikeshare_trips` AS trip\n",
    "JOIN `bigquery-public-data.san_francisco.bikeshare_stations` AS station\n",
    "ON trip.start_station_id = station.station_id\n",
    "WHERE start_date BETWEEN '2016-03-31' AND '2016-07-01'\n",
    "  AND subscriber_type = 'Subscriber'\n",
    "  AND landmark = 'Redwood City'"
   ]
  }
 ],
 "metadata": {
  "language_info": {
   "name": "python"
  },
  "orig_nbformat": 4
 },
 "nbformat": 4,
 "nbformat_minor": 2
}
