{
 "cells": [
  {
   "cell_type": "code",
   "execution_count": null,
   "metadata": {
    "vscode": {
     "languageId": "sql"
    }
   },
   "outputs": [],
   "source": [
    "-- Mencari total di Q1\n",
    "SELECT COUNT(*) AS total_subs_q1\n",
    "FROM `bigquery-public-data.san_francisco.bikeshare_trips` AS trip\n",
    "JOIN `bigquery-public-data.san_francisco.bikeshare_stations` AS station\n",
    "ON trip.start_station_id = station.station_id\n",
    "WHERE start_date BETWEEN '2015-12-31' AND '2016-04-01'\n",
    "  AND subscriber_type = 'Subscriber'\n",
    "  AND landmark = 'Redwood City'\n"
   ]
  },
  {
   "cell_type": "code",
   "execution_count": null,
   "metadata": {
    "vscode": {
     "languageId": "sql"
    }
   },
   "outputs": [],
   "source": [
    "-- mencari total di Q2\n",
    "SELECT COUNT(*) AS total_subs_q2\n",
    "FROM `bigquery-public-data.san_francisco.bikeshare_trips` AS trip\n",
    "JOIN `bigquery-public-data.san_francisco.bikeshare_stations` AS station\n",
    "ON trip.start_station_id = station.station_id\n",
    "WHERE start_date BETWEEN '2016-03-31' AND '2016-07-01'\n",
    "  AND subscriber_type = 'Subscriber'\n",
    "  AND landmark = 'Redwood City'\n"
   ]
  }
 ],
 "metadata": {
  "kernelspec": {
   "display_name": "Python 3.9.13 ('base')",
   "language": "python",
   "name": "python3"
  },
  "language_info": {
   "codemirror_mode": {
    "name": "ipython",
    "version": 3
   },
   "file_extension": ".py",
   "mimetype": "text/x-python",
   "name": "python",
   "nbconvert_exporter": "python",
   "pygments_lexer": "ipython3",
   "version": "3.9.13"
  },
  "orig_nbformat": 4,
  "vscode": {
   "interpreter": {
    "hash": "fb8e96bab5497db2e3ba4164333414b1d50742fa963cda73889f8b0144f64d6b"
   }
  }
 },
 "nbformat": 4,
 "nbformat_minor": 2
}
